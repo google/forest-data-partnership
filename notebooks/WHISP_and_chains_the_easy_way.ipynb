{
  "nbformat": 4,
  "nbformat_minor": 0,
  "metadata": {
    "colab": {
      "provenance": []
    },
    "kernelspec": {
      "name": "python3",
      "display_name": "Python 3"
    },
    "language_info": {
      "name": "python"
    }
  },
  "cells": [
    {
      "cell_type": "markdown",
      "source": [
        "# WHISP pure Cloud Function"
      ],
      "metadata": {
        "id": "GxxaiImdAlDC"
      }
    },
    {
      "cell_type": "code",
      "source": [
        "# REPLACE WITH YOUR PROJECT!\n",
        "PROJECT = 'your-project'\n",
        "# Suggested compute region:\n",
        "REGION = 'us-central1'"
      ],
      "metadata": {
        "id": "enVaKOcn7j5J"
      },
      "execution_count": null,
      "outputs": []
    },
    {
      "cell_type": "code",
      "source": [
        "!gcloud auth login --project {PROJECT} --billing-project {PROJECT} --update-adc"
      ],
      "metadata": {
        "id": "A9l9Q-OOWwGL"
      },
      "execution_count": null,
      "outputs": []
    },
    {
      "cell_type": "markdown",
      "source": [
        "## Create the Cloud function and deploy it"
      ],
      "metadata": {
        "id": "AqYQuPVkCeiV"
      }
    },
    {
      "cell_type": "code",
      "source": [
        "!mkdir whisper"
      ],
      "metadata": {
        "id": "kV6nj-5AYBL6"
      },
      "execution_count": null,
      "outputs": []
    },
    {
      "cell_type": "markdown",
      "source": [
        "Get the list of datasets from the WHISP GitHub repo."
      ],
      "metadata": {
        "id": "IjJf2c4FnTNk"
      }
    },
    {
      "cell_type": "code",
      "source": [
        "!curl https://raw.githubusercontent.com/forestdatapartnership/whisp/main/src/openforis_whisp/datasets.py --output whisper/datasets.py"
      ],
      "metadata": {
        "id": "9-G-ZavHnFEy"
      },
      "execution_count": null,
      "outputs": []
    },
    {
      "cell_type": "markdown",
      "source": [
        "# EEasify WHISP"
      ],
      "metadata": {
        "id": "mh6CxqsSEKOQ"
      }
    },
    {
      "cell_type": "code",
      "source": [
        "%%writefile whisper/easy_whisp.py\n",
        "\n",
        "import google.auth\n",
        "import ee\n",
        "from typing import List\n",
        "\n",
        "# First, initialize.\n",
        "credentials, _ = google.auth.default(\n",
        "    scopes=['https://www.googleapis.com/auth/earthengine']\n",
        ")\n",
        "ee.Initialize(credentials, project='forest-data-partnership', opt_url='https://earthengine-highvolume.googleapis.com')\n",
        "\n",
        "from datasets import list_functions\n",
        "\n",
        "def easy_whisp() -> List[ee.Image]:\n",
        "    \"\"\"Returns the stack as a list of images.\"\"\"\n",
        "    images_list = []\n",
        "    for func in list_functions():\n",
        "      try:\n",
        "        image = func()\n",
        "        images_list.append(image)\n",
        "      except ee.EEException as e:\n",
        "        logging.error(str(e))\n",
        "    return images_list"
      ],
      "metadata": {
        "id": "zGaYEgGAEKOR"
      },
      "execution_count": null,
      "outputs": []
    },
    {
      "cell_type": "code",
      "source": [
        "%%writefile whisper/main.py\n",
        "\n",
        "import json\n",
        "import ee\n",
        "from flask import jsonify\n",
        "import functions_framework\n",
        "import logging\n",
        "import requests\n",
        "import google.auth\n",
        "import google.cloud.logging\n",
        "from google.api_core import retry\n",
        "import concurrent.futures\n",
        "\n",
        "from easy_whisp import easy_whisp\n",
        "\n",
        "client = google.cloud.logging.Client()\n",
        "client.setup_logging()\n",
        "\n",
        "\n",
        "_WHISP_IMAGES = easy_whisp()\n",
        "\n",
        "\n",
        "@retry.Retry()\n",
        "def get_stats(region, image):\n",
        "  \"\"\"\"\"\"\n",
        "  return image.reduceRegion(\n",
        "      reducer=ee.Reducer.mean(), geometry=region, scale=10).getInfo()\n",
        "\n",
        "\n",
        "@retry.Retry()\n",
        "def get_whisp_stats(geojson):\n",
        "  \"\"\"\"\"\"\n",
        "  region = ee.Geometry(geojson)\n",
        "  whisp_stats = {}\n",
        "  # Use ThreadPoolExecutor for parallel execution.\n",
        "  with concurrent.futures.ThreadPoolExecutor(max_workers=len(_WHISP_IMAGES) + 5) as executor:\n",
        "    future_to_image = {executor.submit(\n",
        "        get_stats, region=region, image=img): img for img in _WHISP_IMAGES}\n",
        "    for future in concurrent.futures.as_completed(future_to_image):\n",
        "      img = future_to_image[future]\n",
        "      try:\n",
        "          image_stats = future.result()\n",
        "          whisp_stats.update(image_stats)\n",
        "      except ee.EEException as e:\n",
        "          logging.error(f'{img} generated an exception: {e}')\n",
        "  return whisp_stats\n",
        "\n",
        "\n",
        "@functions_framework.http\n",
        "def main(request):\n",
        "  \"\"\"\"\"\"\n",
        "  credentials, _ = google.auth.default(\n",
        "      scopes=['https://www.googleapis.com/auth/earthengine']\n",
        "  )\n",
        "  ee.Initialize(credentials, project='forest-data-partnership')\n",
        "  try:\n",
        "    replies = []\n",
        "    request_json = request.get_json(silent=True)\n",
        "    calls = request_json['calls']\n",
        "    for call in calls:\n",
        "      geo_json = json.loads(call[0])\n",
        "      try:\n",
        "        logging.info([geo_json])\n",
        "        response = get_whisp_stats(geo_json)\n",
        "        logging.info(response)\n",
        "        replies.append(json.dumps(response))\n",
        "      except Exception as e:\n",
        "        logging.error(str(e))\n",
        "        replies.append(json.dumps( { \"errorMessage\": str(e) } ))\n",
        "    return jsonify(replies=replies, status=200, mimetype='application/json')\n",
        "  except Exception as e:\n",
        "    error_string = str(e)\n",
        "    logging.error(error_string)\n",
        "    return jsonify(error=error_string, status=400, mimetype='application/json')"
      ],
      "metadata": {
        "id": "5JqOMsnoYIjl"
      },
      "execution_count": null,
      "outputs": []
    },
    {
      "cell_type": "code",
      "source": [
        "%%writefile whisper/requirements.txt\n",
        "earthengine-api\n",
        "flask\n",
        "functions-framework\n",
        "google-api-core\n",
        "google-cloud-logging\n",
        "requests"
      ],
      "metadata": {
        "id": "9sHkV9A2YjKi"
      },
      "execution_count": null,
      "outputs": []
    },
    {
      "cell_type": "markdown",
      "source": [
        "## Load WHISP example data\n",
        "\n",
        "Here we will get the WHISP example data from GitHub and use it to test the Cloud Function."
      ],
      "metadata": {
        "id": "VKZw9uYPBMKU"
      }
    },
    {
      "cell_type": "code",
      "source": [
        "import json"
      ],
      "metadata": {
        "id": "oSFh41jzSSUs"
      },
      "execution_count": null,
      "outputs": []
    },
    {
      "cell_type": "code",
      "execution_count": null,
      "metadata": {
        "id": "-kMry2b6DRZ1"
      },
      "outputs": [],
      "source": [
        "fc_list = !curl https://raw.githubusercontent.com/forestdatapartnership/whisp/main/tests/fixtures/geojson_example.geojson"
      ]
    },
    {
      "cell_type": "code",
      "source": [
        "fc_obj = json.loads(\"\\n\".join(fc_list))"
      ],
      "metadata": {
        "id": "rvSyJEqrhZVN"
      },
      "execution_count": null,
      "outputs": []
    },
    {
      "cell_type": "code",
      "source": [
        "features = fc_obj['features']"
      ],
      "metadata": {
        "id": "k4pX7tDKjTHw"
      },
      "execution_count": null,
      "outputs": []
    },
    {
      "cell_type": "markdown",
      "source": [
        "See https://code.earthengine.google.com/e7d74cb4694589fc8a2e9923404730b4"
      ],
      "metadata": {
        "id": "5KhKli_12pIe"
      }
    },
    {
      "cell_type": "code",
      "source": [
        "feature = features[4]"
      ],
      "metadata": {
        "id": "f7YCQpXvci46"
      },
      "execution_count": null,
      "outputs": []
    },
    {
      "cell_type": "code",
      "source": [
        "feature"
      ],
      "metadata": {
        "id": "ibgvYN8BcqG1"
      },
      "execution_count": null,
      "outputs": []
    },
    {
      "cell_type": "code",
      "source": [
        "geoms = [f['geometry'] for f in features]"
      ],
      "metadata": {
        "id": "yhr-zafmmrnA"
      },
      "execution_count": null,
      "outputs": []
    },
    {
      "cell_type": "code",
      "source": [
        "geoms[4]"
      ],
      "metadata": {
        "id": "-jMb6CRxnp2v"
      },
      "execution_count": null,
      "outputs": []
    },
    {
      "cell_type": "code",
      "source": [
        "json.dumps(geoms[4], separators=(',', ':'))"
      ],
      "metadata": {
        "id": "OuVSb3B8tqBY"
      },
      "execution_count": null,
      "outputs": []
    },
    {
      "cell_type": "code",
      "source": [
        "import ee\n",
        "ee.Initialize(project='forest-data-partnership')"
      ],
      "metadata": {
        "id": "eB4ulx9LprLT"
      },
      "execution_count": null,
      "outputs": []
    },
    {
      "cell_type": "code",
      "source": [
        "print(ee.Geometry(geoms[4]).getInfo())"
      ],
      "metadata": {
        "id": "zgY-6zYxp8xr"
      },
      "execution_count": null,
      "outputs": []
    },
    {
      "cell_type": "markdown",
      "source": [
        "## Deploy the Cloud Function"
      ],
      "metadata": {
        "id": "yspAvxjfRz7P"
      }
    },
    {
      "cell_type": "code",
      "source": [
        "!gcloud functions deploy 'whisper' \\\n",
        "  --gen2 \\\n",
        "  --region={REGION} \\\n",
        "  --project={PROJECT} \\\n",
        "  --runtime=python312 \\\n",
        "  --source='whisper' \\\n",
        "  --entry-point=main \\\n",
        "  --trigger-http \\\n",
        "  --no-allow-unauthenticated \\\n",
        "  --timeout=300s"
      ],
      "metadata": {
        "id": "3J0PMJP1YMJ8"
      },
      "execution_count": null,
      "outputs": []
    },
    {
      "cell_type": "markdown",
      "source": [
        "## Test the deployed Cloud Function"
      ],
      "metadata": {
        "id": "L5yqDI0lCo5a"
      }
    },
    {
      "cell_type": "code",
      "source": [
        "!gcloud auth print-identity-token"
      ],
      "metadata": {
        "id": "OHumF_OJPR3w"
      },
      "execution_count": null,
      "outputs": []
    },
    {
      "cell_type": "code",
      "source": [
        "import json\n",
        "\n",
        "test_calls = [[json.dumps(g), 'foo_string', 'bar_string'] for g in geoms]\n",
        "test_request = json.dumps({'calls': test_calls}, separators=(',', ':')).join(\"''\")"
      ],
      "metadata": {
        "id": "Azp7rTbJdYuZ"
      },
      "execution_count": null,
      "outputs": []
    },
    {
      "cell_type": "code",
      "source": [
        "test_request"
      ],
      "metadata": {
        "id": "HvDNJ-szfodx"
      },
      "execution_count": null,
      "outputs": []
    },
    {
      "cell_type": "code",
      "source": [
        "responses = !curl -X POST https://{REGION}-{PROJECT}.cloudfunctions.net/whisper \\\n",
        "  -H \"Authorization: bearer $(gcloud auth print-identity-token)\" \\\n",
        "  -H \"Content-Type: application/json\" \\\n",
        "  -d {test_request}"
      ],
      "metadata": {
        "id": "aj7W0sTSdePQ"
      },
      "execution_count": null,
      "outputs": []
    },
    {
      "cell_type": "markdown",
      "source": [
        "### Inspect the output of the function\n",
        "\n",
        "The keys are useful for making the SQL to use in BigQuery."
      ],
      "metadata": {
        "id": "VV3AoeeiR5oT"
      }
    },
    {
      "cell_type": "code",
      "source": [
        "print(len(responses))\n",
        "response = responses[0]\n",
        "response_json = json.loads(response)\n",
        "replies = response_json['replies']\n",
        "print(len(replies))\n",
        "reply_0 = replies[0]\n",
        "reply_0_json = json.loads(reply_0)\n",
        "reply_0_json.keys()"
      ],
      "metadata": {
        "id": "f8wkbISu2AbP"
      },
      "execution_count": null,
      "outputs": []
    },
    {
      "cell_type": "markdown",
      "source": [
        "## Create a remote connection in BQ"
      ],
      "metadata": {
        "id": "1p3MKGcXDAEr"
      }
    },
    {
      "cell_type": "markdown",
      "source": [
        "Follow https://cloud.google.com/bigquery/docs/remote-functions#create_a_remote_function to set up a connection to the Cloud Function deployed previously.  Once the connection is set up, create a function to use in queries:\n",
        "\n",
        "```\n",
        "CREATE OR REPLACE FUNCTION `forest-data-partnership.WHISP_DEMO.whisp`(geom STRING) RETURNS STRING\n",
        "REMOTE WITH CONNECTION `forest-data-partnership.us-central1.whisp`\n",
        "OPTIONS (\n",
        "  endpoint = 'https://us-central1-forest-data-partnership.cloudfunctions.net/whisper',\n",
        "  max_batching_rows = 1\n",
        ")\n",
        "```"
      ],
      "metadata": {
        "id": "rb7bdkCUDExH"
      }
    },
    {
      "cell_type": "markdown",
      "source": [
        "Once that's done, you can use your EasyWHISP function in queries!  The keys extracted from the test response are useful for building the `SQL` that represents this query.  Note that the input table must have a geometry column and that the geometries are passed to the function as GeoJSON strings:"
      ],
      "metadata": {
        "id": "wjmlGTs2TS6u"
      }
    },
    {
      "cell_type": "code",
      "source": [
        "SQL_TEMPLATE = [f\"JSON_EXTRACT_SCALAR(json_data, '$.{key}') AS {key},\" for key in reply_0_json.keys()]\n",
        "SQL_TEMPLATE = ['SELECT', 'geometry,'] + SQL_TEMPLATE\n",
        "SQL_TEMPLATE = SQL_TEMPLATE + [\n",
        "    'FROM',\n",
        "    '`forest-data-partnership.WHISP_DEMO.input_examples`,',\n",
        "    'UNNEST([SAFE.PARSE_JSON(`forest-data-partnership.WHISP_DEMO`.whisp(ST_ASGEOJSON(geometry)))]) AS json_data']\n",
        "\n",
        "print('\\n'.join(SQL_TEMPLATE))"
      ],
      "metadata": {
        "id": "0E1bHVd_McWu"
      },
      "execution_count": null,
      "outputs": []
    },
    {
      "cell_type": "markdown",
      "source": [
        "Take that `SQL` blob over to BigQuery and run it!"
      ],
      "metadata": {
        "id": "7gFrfgf4T1-r"
      }
    }
  ]
}