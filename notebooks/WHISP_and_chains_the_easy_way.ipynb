{
  "cells": [
    {
      "cell_type": "markdown",
      "metadata": {
        "id": "GxxaiImdAlDC"
      },
      "source": [
        "# WHISP pure Cloud Function\n",
        "\n",
        "WHISP (WHat IS in that Plot?) is a tool developed by FAO to aid in due diligence reporting for supply chain sustainability.  This notebook demonstrates how to use [WHISP](https://openforis.org/solutions/whisp/) to get sustainable sourcing information from the Google geospatial stack to your workflow.\n",
        "\n",
        "**WARNING**: These demos consume billable resources and may result in charges to your account!"
      ]
    },
    {
      "cell_type": "markdown",
      "metadata": {},
      "source": [
        "# Setup"
      ]
    },
    {
      "cell_type": "markdown",
      "metadata": {},
      "source": [
        "## Import Python packages for Setup"
      ]
    },
    {
      "cell_type": "code",
      "execution_count": 2,
      "metadata": {},
      "outputs": [],
      "source": [
        "import os"
      ]
    },
    {
      "cell_type": "markdown",
      "metadata": {},
      "source": [
        "## Determine the GCP project name and compute region"
      ]
    },
    {
      "cell_type": "code",
      "execution_count": 3,
      "metadata": {},
      "outputs": [],
      "source": [
        "def is_running_in_colab():\n",
        "    \"\"\"\n",
        "    Check if the code is being executed within Google Colab.\n",
        "    Returns True if running in Colab, False otherwise.\n",
        "    \"\"\"\n",
        "    try:\n",
        "        from google.colab import userdata\n",
        "        return True\n",
        "    except ModuleNotFoundError:\n",
        "        return False\n",
        "\n",
        "def load_environment_variable(variable_name):\n",
        "    \"\"\"\n",
        "    Load an environment variable from Colab secrets or from the local environment.\n",
        "    Raises an exception if the variable is not found.\n",
        "    \"\"\"\n",
        "    \n",
        "    if is_running_in_colab():\n",
        "        value = userdata.get(variable_name)\n",
        "        if value is None:\n",
        "            raise ValueError(f\"'{variable_name}' not found in Colab secrets\")\n",
        "        return value\n",
        "    else:\n",
        "        value = os.getenv(variable_name)\n",
        "        if value is None:\n",
        "            raise ValueError(f\"'{variable_name}' not found in the local environment variables\")\n",
        "        return value"
      ]
    },
    {
      "cell_type": "code",
      "execution_count": 5,
      "metadata": {},
      "outputs": [],
      "source": [
        "project = load_environment_variable('EE_PROJECT_ID')\n",
        "region = os.getenv('GCP_REGION')"
      ]
    },
    {
      "cell_type": "code",
      "execution_count": null,
      "metadata": {
        "id": "A9l9Q-OOWwGL"
      },
      "outputs": [],
      "source": [
        "!gcloud auth login --project {PROJECT} --billing-project {PROJECT} --update-adc"
      ]
    },
    {
      "cell_type": "markdown",
      "metadata": {
        "id": "AqYQuPVkCeiV"
      },
      "source": [
        "# Create the Cloud function and deploy it\n",
        "\n",
        "The workflow here is to create a working directory, download key parts of WHISP from the [WHISP GitHub repo](https://github.com/forestdatapartnership/whisp) and embed them in a custom analysis.  First, make a working directory to hold all the code."
      ]
    },
    {
      "cell_type": "code",
      "execution_count": null,
      "metadata": {
        "id": "kV6nj-5AYBL6"
      },
      "outputs": [],
      "source": [
        "!mkdir whisper"
      ]
    },
    {
      "cell_type": "markdown",
      "metadata": {
        "id": "CETwZfRzihMR"
      },
      "source": [
        "Get `datsets.py` from the WHISP repo.  Note that you can inspect the code using the file browser to the left side of the notebook."
      ]
    },
    {
      "cell_type": "code",
      "execution_count": null,
      "metadata": {
        "id": "9-G-ZavHnFEy"
      },
      "outputs": [],
      "source": [
        "!curl https://raw.githubusercontent.com/forestdatapartnership/whisp/main/src/openforis_whisp/datasets.py --output whisper/datasets.py"
      ]
    },
    {
      "cell_type": "markdown",
      "metadata": {
        "id": "mh6CxqsSEKOQ"
      },
      "source": [
        "## EEasify WHISP\n",
        "\n",
        "Load `list_functions()` from the `datasets.py` file to get a list of images to use."
      ]
    },
    {
      "cell_type": "code",
      "execution_count": null,
      "metadata": {
        "id": "zGaYEgGAEKOR"
      },
      "outputs": [],
      "source": [
        "%%writefile whisper/easy_whisp.py\n",
        "\n",
        "import google.auth\n",
        "import ee\n",
        "from typing import List\n",
        "\n",
        "# First, initialize.\n",
        "credentials, _ = google.auth.default(\n",
        "    scopes=['https://www.googleapis.com/auth/earthengine']\n",
        ")\n",
        "ee.Initialize(credentials, project=PROJECT, opt_url='https://earthengine-highvolume.googleapis.com')\n",
        "\n",
        "from datasets import list_functions\n",
        "\n",
        "def easy_whisp() -> List[ee.Image]:\n",
        "    \"\"\"Returns the stack as a list of images.\"\"\"\n",
        "    images_list = []\n",
        "    for func in list_functions():\n",
        "      try:\n",
        "        image = func()\n",
        "        images_list.append(image)\n",
        "      except ee.EEException as e:\n",
        "        logging.error(str(e))\n",
        "    return images_list"
      ]
    },
    {
      "cell_type": "markdown",
      "metadata": {
        "id": "c2enWJ6BmH2Z"
      },
      "source": [
        "For each image in the list of relevant datasets provided by WHISP, do `reduceRegions` in parallel."
      ]
    },
    {
      "cell_type": "code",
      "execution_count": null,
      "metadata": {
        "id": "5JqOMsnoYIjl"
      },
      "outputs": [],
      "source": [
        "%%writefile whisper/main.py\n",
        "\n",
        "import json\n",
        "import ee\n",
        "from flask import jsonify\n",
        "import functions_framework\n",
        "import logging\n",
        "import requests\n",
        "import google.auth\n",
        "import google.cloud.logging\n",
        "from google.api_core import retry\n",
        "import concurrent.futures\n",
        "\n",
        "from easy_whisp import easy_whisp\n",
        "\n",
        "client = google.cloud.logging.Client()\n",
        "client.setup_logging()\n",
        "\n",
        "\n",
        "_WHISP_IMAGES = easy_whisp()\n",
        "\n",
        "\n",
        "@retry.Retry()\n",
        "def get_stats(region, image):\n",
        "  \"\"\"\"\"\"\n",
        "  return image.reduceRegion(\n",
        "      reducer=ee.Reducer.mean(), geometry=region, scale=10).getInfo()\n",
        "\n",
        "\n",
        "@retry.Retry()\n",
        "def get_whisp_stats(geojson):\n",
        "  \"\"\"\"\"\"\n",
        "  region = ee.Geometry(geojson)\n",
        "  whisp_stats = {}\n",
        "  # Use a ThreadPoolExecutor with 20 workers for parallel execution.\n",
        "  with concurrent.futures.ThreadPoolExecutor(max_workers=20) as executor:\n",
        "    future_to_image = {executor.submit(\n",
        "        get_stats, region=region, image=img): img for img in _WHISP_IMAGES}\n",
        "    for future in concurrent.futures.as_completed(future_to_image):\n",
        "      img = future_to_image[future]\n",
        "      try:\n",
        "        image_stats = future.result()\n",
        "        whisp_stats.update(image_stats)\n",
        "      except ee.EEException as e:\n",
        "        logging.error(f'{img} generated an exception: {e}')\n",
        "  return whisp_stats\n",
        "\n",
        "\n",
        "@functions_framework.http\n",
        "def main(request):\n",
        "  \"\"\"\"\"\"\n",
        "  credentials, _ = google.auth.default(\n",
        "      scopes=['https://www.googleapis.com/auth/earthengine']\n",
        "  )\n",
        "  ee.Initialize(credentials, project=PROJECT)\n",
        "  try:\n",
        "    replies = []\n",
        "    request_json = request.get_json(silent=True)\n",
        "    calls = request_json['calls']\n",
        "    for call in calls:\n",
        "      geo_json = json.loads(call[0])\n",
        "      try:\n",
        "        logging.info([geo_json])\n",
        "        response = get_whisp_stats(geo_json)\n",
        "        logging.info(response)\n",
        "        replies.append(json.dumps(response))\n",
        "      except Exception as e:\n",
        "        logging.error(str(e))\n",
        "        replies.append(json.dumps( { \"errorMessage\": str(e) } ))\n",
        "    return jsonify(replies=replies, status=200, mimetype='application/json')\n",
        "  except Exception as e:\n",
        "    error_string = str(e)\n",
        "    logging.error(error_string)\n",
        "    return jsonify(error=error_string, status=400, mimetype='application/json')"
      ]
    },
    {
      "cell_type": "code",
      "execution_count": null,
      "metadata": {
        "id": "9sHkV9A2YjKi"
      },
      "outputs": [],
      "source": [
        "%%writefile whisper/requirements.txt\n",
        "earthengine-api\n",
        "flask\n",
        "functions-framework\n",
        "google-api-core\n",
        "google-cloud-logging\n",
        "requests"
      ]
    },
    {
      "cell_type": "markdown",
      "metadata": {
        "id": "yspAvxjfRz7P"
      },
      "source": [
        "## Deploy the Cloud Function"
      ]
    },
    {
      "cell_type": "code",
      "execution_count": null,
      "metadata": {
        "id": "3J0PMJP1YMJ8"
      },
      "outputs": [],
      "source": [
        "!gcloud functions deploy 'whisper' \\\n",
        "  --gen2 \\\n",
        "  --region={REGION} \\\n",
        "  --project={PROJECT} \\\n",
        "  --runtime=python312 \\\n",
        "  --source='whisper' \\\n",
        "  --entry-point=main \\\n",
        "  --trigger-http \\\n",
        "  --no-allow-unauthenticated \\\n",
        "  --timeout=300s"
      ]
    },
    {
      "cell_type": "markdown",
      "metadata": {
        "id": "VKZw9uYPBMKU"
      },
      "source": [
        "## Load WHISP example data\n",
        "\n",
        "Get WHISP example data from GitHub and use it to test the Cloud Function."
      ]
    },
    {
      "cell_type": "code",
      "execution_count": null,
      "metadata": {
        "id": "oSFh41jzSSUs"
      },
      "outputs": [],
      "source": [
        "import json\n",
        "\n",
        "fc_list = !curl https://raw.githubusercontent.com/forestdatapartnership/whisp/main/tests/fixtures/geojson_example.geojson\n",
        "fc_obj = json.loads(\"\\n\".join(fc_list))\n",
        "features = fc_obj['features']\n",
        "# See https://code.earthengine.google.com/e7d74cb4694589fc8a2e9923404730b4\n",
        "feature = features[4]\n",
        "feature"
      ]
    },
    {
      "cell_type": "code",
      "execution_count": null,
      "metadata": {
        "id": "yhr-zafmmrnA"
      },
      "outputs": [],
      "source": [
        "# Get the geometries.\n",
        "geoms = [f['geometry'] for f in features]"
      ]
    },
    {
      "cell_type": "code",
      "execution_count": null,
      "metadata": {
        "colab": {
          "base_uri": "https://localhost:8080/"
        },
        "id": "-jMb6CRxnp2v",
        "outputId": "51d8b911-0378-4f7b-8084-10c71970d671"
      },
      "outputs": [],
      "source": [
        "geoms[0]"
      ]
    },
    {
      "cell_type": "code",
      "execution_count": null,
      "metadata": {
        "colab": {
          "base_uri": "https://localhost:8080/",
          "height": 53
        },
        "id": "OuVSb3B8tqBY",
        "outputId": "4d2f5327-789a-40e9-d053-32ba96c654e7"
      },
      "outputs": [],
      "source": [
        "json.dumps(geoms[0], separators=(',', ':'))"
      ]
    },
    {
      "cell_type": "code",
      "execution_count": null,
      "metadata": {
        "id": "eB4ulx9LprLT"
      },
      "outputs": [],
      "source": [
        "import ee\n",
        "ee.Initialize(project=PROJECT)"
      ]
    },
    {
      "cell_type": "code",
      "execution_count": null,
      "metadata": {
        "colab": {
          "base_uri": "https://localhost:8080/"
        },
        "id": "zgY-6zYxp8xr",
        "outputId": "f4f48b0b-b0bd-46a1-ea29-53f1fce25ee6"
      },
      "outputs": [],
      "source": [
        "print(ee.Geometry(geoms[0]).getInfo())"
      ]
    },
    {
      "cell_type": "markdown",
      "metadata": {
        "id": "L5yqDI0lCo5a"
      },
      "source": [
        "## Test the deployed Cloud Function"
      ]
    },
    {
      "cell_type": "code",
      "execution_count": null,
      "metadata": {
        "id": "OHumF_OJPR3w"
      },
      "outputs": [],
      "source": [
        "!gcloud auth print-identity-token"
      ]
    },
    {
      "cell_type": "markdown",
      "metadata": {
        "id": "tV7cfKmNnTkV"
      },
      "source": [
        "Make a test request out of the WHISP sample data."
      ]
    },
    {
      "cell_type": "code",
      "execution_count": null,
      "metadata": {
        "id": "Azp7rTbJdYuZ"
      },
      "outputs": [],
      "source": [
        "import json\n",
        "\n",
        "test_calls = [[json.dumps(g), 'foo_string', 'bar_string'] for g in geoms]\n",
        "test_request = json.dumps({'calls': test_calls}, separators=(',', ':')).join(\"''\")"
      ]
    },
    {
      "cell_type": "code",
      "execution_count": null,
      "metadata": {
        "id": "HvDNJ-szfodx"
      },
      "outputs": [],
      "source": [
        "test_request"
      ]
    },
    {
      "cell_type": "markdown",
      "metadata": {
        "id": "EbQg_bf2nVCD"
      },
      "source": [
        "Make the request (might take a while)."
      ]
    },
    {
      "cell_type": "code",
      "execution_count": null,
      "metadata": {
        "id": "aj7W0sTSdePQ"
      },
      "outputs": [],
      "source": [
        "responses = !curl -X POST https://{REGION}-{PROJECT}.cloudfunctions.net/whisper \\\n",
        "  -H \"Authorization: bearer $(gcloud auth print-identity-token)\" \\\n",
        "  -H \"Content-Type: application/json\" \\\n",
        "  -d {test_request}"
      ]
    },
    {
      "cell_type": "markdown",
      "metadata": {
        "id": "VV3AoeeiR5oT"
      },
      "source": [
        "### Inspect the output of the function\n",
        "\n",
        "The keys are useful for making the SQL to use in BigQuery."
      ]
    },
    {
      "cell_type": "code",
      "execution_count": null,
      "metadata": {
        "id": "f8wkbISu2AbP"
      },
      "outputs": [],
      "source": [
        "print(len(responses))\n",
        "response = responses[0]\n",
        "response_json = json.loads(response)\n",
        "replies = response_json['replies']\n",
        "print(len(replies))\n",
        "reply_0 = replies[0]\n",
        "reply_0_json = json.loads(reply_0)\n",
        "reply_0_json.keys()"
      ]
    },
    {
      "cell_type": "markdown",
      "metadata": {
        "id": "1p3MKGcXDAEr"
      },
      "source": [
        "# Create a remote connection in BQ"
      ]
    },
    {
      "cell_type": "markdown",
      "metadata": {
        "id": "rb7bdkCUDExH"
      },
      "source": [
        "Follow [this BigQuery guide](https://cloud.google.com/bigquery/docs/remote-functions#create_a_remote_function) to set up a connection to the Cloud Function deployed previously.  Once the connection is set up, create a function to use in queries.  Run this SQL in BQ, replacing with your project ID.\n",
        "\n",
        "```\n",
        "CREATE OR REPLACE FUNCTION `forest-data-partnership.WHISP_DEMO.whisp`(geom STRING) RETURNS STRING\n",
        "REMOTE WITH CONNECTION `forest-data-partnership.us-central1.whisp`\n",
        "OPTIONS (\n",
        "  endpoint = 'https://us-central1-forest-data-partnership.cloudfunctions.net/whisper',\n",
        "  max_batching_rows = 1\n",
        ")\n",
        "```"
      ]
    },
    {
      "cell_type": "markdown",
      "metadata": {
        "id": "wjmlGTs2TS6u"
      },
      "source": [
        "Once that's done, you can use your `easy_whisp` function in queries!  The keys extracted from the test response are useful for building the `SQL` that represents this query.  Note that the input table must have a geometry column and that the geometries are passed to the function as GeoJSON strings:"
      ]
    },
    {
      "cell_type": "code",
      "execution_count": null,
      "metadata": {
        "id": "0E1bHVd_McWu"
      },
      "outputs": [],
      "source": [
        "SQL_TEMPLATE = [f\"JSON_EXTRACT_SCALAR(json_data, '$.{key}') AS {key},\" for key in reply_0_json.keys()]\n",
        "SQL_TEMPLATE = ['SELECT', 'geometry,'] + SQL_TEMPLATE\n",
        "SQL_TEMPLATE = SQL_TEMPLATE + [\n",
        "    'FROM',\n",
        "    '`forest-data-partnership.WHISP_DEMO.input_examples`,',\n",
        "    'UNNEST([SAFE.PARSE_JSON(`forest-data-partnership.WHISP_DEMO`.whisp(ST_ASGEOJSON(geometry)))]) AS json_data']\n",
        "\n",
        "print('\\n'.join(SQL_TEMPLATE))"
      ]
    },
    {
      "cell_type": "markdown",
      "metadata": {
        "id": "7gFrfgf4T1-r"
      },
      "source": [
        "Take that `SQL` blob over to BigQuery and run it!"
      ]
    },
    {
      "cell_type": "markdown",
      "metadata": {
        "id": "viGZzdATnwXt"
      },
      "source": [
        "# Next Steps\n",
        "\n",
        "- Take that `SQL` blob over to BigQuery and run it!\n",
        "- Try the [Sustainable Sourcing Cloud Function demo notebook](https://colab.research.google.com/drive/1cQyqNaiK3nP65I-LunRkQyLLXTakaYs9?resourcekey=0-YAkoE8VC9drgqa1PE6uAGA&usp=sharing)."
      ]
    }
  ],
  "metadata": {
    "colab": {
      "provenance": [],
      "toc_visible": true
    },
    "kernelspec": {
      "display_name": "Python 3",
      "name": "python3"
    },
    "language_info": {
      "name": "python"
    }
  },
  "nbformat": 4,
  "nbformat_minor": 0
}
