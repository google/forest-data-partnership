{
  "nbformat": 4,
  "nbformat_minor": 0,
  "metadata": {
    "colab": {
      "provenance": []
    },
    "kernelspec": {
      "name": "python3",
      "display_name": "Python 3"
    },
    "language_info": {
      "name": "python"
    }
  },
  "cells": [
    {
      "cell_type": "markdown",
      "source": [
        "# WHISP pure Cloud Function"
      ],
      "metadata": {
        "id": "GxxaiImdAlDC"
      }
    },
    {
      "cell_type": "code",
      "source": [
        "REGION = 'us-central1'\n",
        "PROJECT = 'forest-data-partnership'"
      ],
      "metadata": {
        "id": "enVaKOcn7j5J"
      },
      "execution_count": null,
      "outputs": []
    },
    {
      "cell_type": "code",
      "source": [
        "!gcloud auth login --project {PROJECT} --billing-project {PROJECT} --update-adc"
      ],
      "metadata": {
        "id": "A9l9Q-OOWwGL"
      },
      "execution_count": null,
      "outputs": []
    },
    {
      "cell_type": "markdown",
      "source": [
        "## Create the Cloud function and deploy it"
      ],
      "metadata": {
        "id": "AqYQuPVkCeiV"
      }
    },
    {
      "cell_type": "code",
      "source": [
        "!mkdir whisper"
      ],
      "metadata": {
        "id": "kV6nj-5AYBL6"
      },
      "execution_count": null,
      "outputs": []
    },
    {
      "cell_type": "markdown",
      "source": [
        "Get the list of datasets from the WHISP GitHub repo."
      ],
      "metadata": {
        "id": "IjJf2c4FnTNk"
      }
    },
    {
      "cell_type": "code",
      "source": [
        "!curl https://raw.githubusercontent.com/forestdatapartnership/whisp/main/src/openforis_whisp/datasets.py --output whisper/datasets.py"
      ],
      "metadata": {
        "id": "9-G-ZavHnFEy"
      },
      "execution_count": null,
      "outputs": []
    },
    {
      "cell_type": "markdown",
      "source": [
        "# EEasify WHISP"
      ],
      "metadata": {
        "id": "mh6CxqsSEKOQ"
      }
    },
    {
      "cell_type": "code",
      "source": [
        "%%writefile whisper/easy_whisp.py\n",
        "\n",
        "import google.auth\n",
        "import ee\n",
        "\n",
        "# First, initialize.\n",
        "credentials, _ = google.auth.default(\n",
        "    scopes=['https://www.googleapis.com/auth/earthengine']\n",
        ")\n",
        "ee.Initialize(credentials, project='forest-data-partnership', opt_url='https://earthengine-highvolume.googleapis.com')\n",
        "\n",
        "from datasets import combine_datasets\n",
        "\n",
        "def easy_whisp() -> ee.Image:\n",
        "    \"\"\"Returns the stack.\"\"\"\n",
        "    return combine_datasets()"
      ],
      "metadata": {
        "id": "zGaYEgGAEKOR"
      },
      "execution_count": null,
      "outputs": []
    },
    {
      "cell_type": "code",
      "source": [
        "%%writefile whisper/main.py\n",
        "\n",
        "import json\n",
        "import ee\n",
        "from flask import jsonify\n",
        "import functions_framework\n",
        "import logging\n",
        "import requests\n",
        "\n",
        "import google.auth\n",
        "import google.cloud.logging\n",
        "from google.api_core import retry\n",
        "\n",
        "from easy_whisp import easy_whisp\n",
        "\n",
        "client = google.cloud.logging.Client()\n",
        "client.setup_logging()\n",
        "\n",
        "\n",
        "@retry.Retry()\n",
        "def get_whisp_stats(geojson):\n",
        "    \"\"\"\"\"\"\n",
        "    region = ee.Geometry(geojson)\n",
        "    whisp_image = easy_whisp()\n",
        "    return whisp_image.reduceRegion(\n",
        "        reducer=ee.Reducer.mean(),\n",
        "        geometry=region,\n",
        "        scale=10\n",
        "    ).getInfo()\n",
        "\n",
        "\n",
        "@functions_framework.http\n",
        "def main(request):\n",
        "  \"\"\"\"\"\"\n",
        "  credentials, _ = google.auth.default(\n",
        "      scopes=['https://www.googleapis.com/auth/earthengine']\n",
        "  )\n",
        "  ee.Initialize(credentials, project='forest-data-partnership')\n",
        "  try:\n",
        "    replies = []\n",
        "    request_json = request.get_json(silent=True)\n",
        "    calls = request_json['calls']\n",
        "    for call in calls:\n",
        "      geo_json = json.loads(call[0])\n",
        "      try:\n",
        "        logging.info([geo_json])\n",
        "        response = get_whisp_stats(geo_json)\n",
        "        logging.info(response)\n",
        "        replies.append(json.dumps(response))\n",
        "      except Exception as e:\n",
        "        logging.error(str(e))\n",
        "        replies.append(json.dumps( { \"errorMessage\": str(e) } ))\n",
        "    return jsonify(replies=replies, status=200, mimetype='application/json')\n",
        "  except Exception as e:\n",
        "    error_string = str(e)\n",
        "    logging.error(error_string)\n",
        "    return jsonify(error=error_string, status=400, mimetype='application/json')"
      ],
      "metadata": {
        "id": "5JqOMsnoYIjl"
      },
      "execution_count": null,
      "outputs": []
    },
    {
      "cell_type": "code",
      "source": [
        "%%writefile whisper/requirements.txt\n",
        "earthengine-api\n",
        "flask\n",
        "functions-framework\n",
        "google-api-core\n",
        "google-cloud-logging\n",
        "requests"
      ],
      "metadata": {
        "id": "9sHkV9A2YjKi"
      },
      "execution_count": null,
      "outputs": []
    },
    {
      "cell_type": "code",
      "source": [
        "!gcloud functions deploy 'whisper' \\\n",
        "  --gen2 \\\n",
        "  --region={REGION} \\\n",
        "  --project={PROJECT} \\\n",
        "  --runtime=python312 \\\n",
        "  --source='whisper' \\\n",
        "  --entry-point=main \\\n",
        "  --trigger-http \\\n",
        "  --no-allow-unauthenticated \\\n",
        "  --timeout=120s"
      ],
      "metadata": {
        "id": "3J0PMJP1YMJ8"
      },
      "execution_count": null,
      "outputs": []
    },
    {
      "cell_type": "markdown",
      "source": [
        "## Load WHISP example data\n",
        "\n",
        "Here we will get the WHISP example data from GitHub, convert to line delimited GeoJSON..."
      ],
      "metadata": {
        "id": "VKZw9uYPBMKU"
      }
    },
    {
      "cell_type": "code",
      "source": [
        "import json"
      ],
      "metadata": {
        "id": "oSFh41jzSSUs"
      },
      "execution_count": null,
      "outputs": []
    },
    {
      "cell_type": "code",
      "execution_count": null,
      "metadata": {
        "id": "-kMry2b6DRZ1"
      },
      "outputs": [],
      "source": [
        "fc_list = !curl https://raw.githubusercontent.com/forestdatapartnership/whisp/main/tests/fixtures/geojson_example.geojson"
      ]
    },
    {
      "cell_type": "code",
      "source": [
        "fc_obj = json.loads(\"\\n\".join(fc_list))"
      ],
      "metadata": {
        "id": "rvSyJEqrhZVN"
      },
      "execution_count": null,
      "outputs": []
    },
    {
      "cell_type": "code",
      "source": [
        "features = fc_obj['features']"
      ],
      "metadata": {
        "id": "k4pX7tDKjTHw"
      },
      "execution_count": null,
      "outputs": []
    },
    {
      "cell_type": "code",
      "source": [
        "feature = features[0]"
      ],
      "metadata": {
        "id": "f7YCQpXvci46"
      },
      "execution_count": null,
      "outputs": []
    },
    {
      "cell_type": "code",
      "source": [
        "feature"
      ],
      "metadata": {
        "id": "ibgvYN8BcqG1"
      },
      "execution_count": null,
      "outputs": []
    },
    {
      "cell_type": "code",
      "source": [
        "geoms = [f['geometry'] for f in features]"
      ],
      "metadata": {
        "id": "yhr-zafmmrnA"
      },
      "execution_count": null,
      "outputs": []
    },
    {
      "cell_type": "code",
      "source": [
        "geoms[0]"
      ],
      "metadata": {
        "id": "-jMb6CRxnp2v"
      },
      "execution_count": null,
      "outputs": []
    },
    {
      "cell_type": "code",
      "source": [
        "json.dumps(geoms[0], separators=(',', ':'))"
      ],
      "metadata": {
        "id": "OuVSb3B8tqBY"
      },
      "execution_count": null,
      "outputs": []
    },
    {
      "cell_type": "code",
      "source": [
        "import ee\n",
        "ee.Initialize(project='forest-data-partnership')"
      ],
      "metadata": {
        "id": "eB4ulx9LprLT"
      },
      "execution_count": null,
      "outputs": []
    },
    {
      "cell_type": "code",
      "source": [
        "print(ee.Geometry(geoms[0]).getInfo())"
      ],
      "metadata": {
        "id": "zgY-6zYxp8xr"
      },
      "execution_count": null,
      "outputs": []
    },
    {
      "cell_type": "markdown",
      "source": [
        "## Test the deployed Cloud Function"
      ],
      "metadata": {
        "id": "L5yqDI0lCo5a"
      }
    },
    {
      "cell_type": "code",
      "source": [
        "!gcloud auth print-identity-token"
      ],
      "metadata": {
        "id": "OHumF_OJPR3w"
      },
      "execution_count": null,
      "outputs": []
    },
    {
      "cell_type": "code",
      "source": [
        "import json\n",
        "\n",
        "test_calls = [[json.dumps(g), '2021-01-01', '2021-12-31'] for g in geoms]\n",
        "test_request = json.dumps({'calls': test_calls}, separators=(',', ':')).join(\"''\")"
      ],
      "metadata": {
        "id": "Azp7rTbJdYuZ"
      },
      "execution_count": null,
      "outputs": []
    },
    {
      "cell_type": "code",
      "source": [
        "test_request"
      ],
      "metadata": {
        "id": "HvDNJ-szfodx"
      },
      "execution_count": null,
      "outputs": []
    },
    {
      "cell_type": "code",
      "source": [
        "!curl -X POST https://{REGION}-{PROJECT}.cloudfunctions.net/whisper \\\n",
        "  -H \"Authorization: bearer $(gcloud auth print-identity-token)\" \\\n",
        "  -H \"Content-Type: application/json\" \\\n",
        "  -d {test_request}"
      ],
      "metadata": {
        "id": "aj7W0sTSdePQ"
      },
      "execution_count": null,
      "outputs": []
    }
  ]
}