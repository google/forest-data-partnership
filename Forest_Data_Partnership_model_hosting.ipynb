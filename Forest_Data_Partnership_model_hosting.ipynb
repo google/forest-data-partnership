{
  "nbformat": 4,
  "nbformat_minor": 0,
  "metadata": {
    "colab": {
      "provenance": []
    },
    "kernelspec": {
      "name": "python3",
      "display_name": "Python 3"
    },
    "language_info": {
      "name": "python"
    }
  },
  "cells": [
    {
      "cell_type": "markdown",
      "source": [
        "# Host a Forest Data Partnership trained model\n",
        "\n",
        "Use this notebook to host [Forest Data Partnership](https://www.forestdatapartnership.org/) models on Vertex AI for predictions in Earth Engine.  The models are stored in TensorFlow saved model format in the [Forest Data Partnership GitHub repository](https://github.com/googlestaging/forest-data-partnership/tree/main).\n",
        "\n",
        "**Note:** This guide uses paid components of Google Cloud Platform including Cloud Storage, Vertex AI and Earth Engine (commercial).  A Cloud project with billing enabled is needed for this workflow."
      ],
      "metadata": {
        "id": "CZLs9h845_j7"
      }
    },
    {
      "cell_type": "code",
      "execution_count": 1,
      "metadata": {
        "id": "JtqbQ2K20UMu"
      },
      "outputs": [],
      "source": [
        "import google\n",
        "from google.colab import auth"
      ]
    },
    {
      "cell_type": "code",
      "source": [
        "PROJECT = 'your-project'\n",
        "BUCKET = 'your-writeable-bucket'\n",
        "\n",
        "REGION = 'us-central1'\n",
        "CONTAINER_IMAGE = 'us-docker.pkg.dev/vertex-ai/prediction/tf2-cpu.2-12:latest'\n",
        "MODEL_NAME = 'palm_model_20231026'\n",
        "ZIP_NAME = f'{MODEL_NAME}_hostable.zip'\n",
        "GH_PATH = f'https://raw.githubusercontent.com/googlestaging/forest-data-partnership/main/models/{ZIP_NAME}'\n",
        "ENDPOINT_NAME = MODEL_NAME + '_endpoint'"
      ],
      "metadata": {
        "id": "9APuBDJXOK6a"
      },
      "execution_count": 2,
      "outputs": []
    },
    {
      "cell_type": "code",
      "source": [
        "auth.authenticate_user()\n",
        "credentials, project = google.auth.default()"
      ],
      "metadata": {
        "id": "HXfFSx4P0rU9"
      },
      "execution_count": 3,
      "outputs": []
    },
    {
      "cell_type": "markdown",
      "source": [
        "## Download a trained model from the GitHub repo"
      ],
      "metadata": {
        "id": "RgtyDrxp585b"
      }
    },
    {
      "cell_type": "code",
      "execution_count": 6,
      "metadata": {
        "id": "iCmxoZDEMbtD",
        "colab": {
          "base_uri": "https://localhost:8080/"
        },
        "outputId": "2a929fa2-394c-48a3-f464-ac1948a0b01d"
      },
      "outputs": [
        {
          "output_type": "stream",
          "name": "stdout",
          "text": [
            "  % Total    % Received % Xferd  Average Speed   Time    Time     Time  Current\n",
            "                                 Dload  Upload   Total   Spent    Left  Speed\n",
            "\r  0     0    0     0    0     0      0      0 --:--:-- --:--:-- --:--:--     0\r100  852k  100  852k    0     0  3573k      0 --:--:-- --:--:-- --:--:-- 3582k\n"
          ]
        }
      ],
      "source": [
        "!curl -o {ZIP_NAME} {GH_PATH}"
      ]
    },
    {
      "cell_type": "code",
      "source": [
        "!unzip {ZIP_NAME}"
      ],
      "metadata": {
        "id": "b6mvhzyF2cvk"
      },
      "execution_count": null,
      "outputs": []
    },
    {
      "cell_type": "code",
      "source": [
        "!gsutil cp -r {MODEL_NAME} gs://{BUCKET}"
      ],
      "metadata": {
        "id": "_IO47if04Zgp"
      },
      "execution_count": null,
      "outputs": []
    },
    {
      "cell_type": "markdown",
      "source": [
        "### [Upload the model](https://cloud.google.com/sdk/gcloud/reference/ai/models/upload)\n",
        "Add an entry to the model registry that points to the location of the saved model and a container image needed to run the model."
      ],
      "metadata": {
        "id": "SNlHMjrin51r"
      }
    },
    {
      "cell_type": "code",
      "metadata": {
        "id": "8RZRRzcfVu5T"
      },
      "source": [
        "!gcloud ai models upload \\\n",
        "  --artifact-uri=f'gs://{BUCKET}/{MODEL_NAME}' \\\n",
        "  --project={PROJECT} \\\n",
        "  --region={REGION} \\\n",
        "  --container-image-uri={CONTAINER_IMAGE} \\\n",
        "  --description={MODEL_NAME} \\\n",
        "  --display-name={MODEL_NAME} \\\n",
        "  --model-id={MODEL_NAME}"
      ],
      "execution_count": null,
      "outputs": []
    },
    {
      "cell_type": "markdown",
      "source": [
        "### [Create an endpoint](https://cloud.google.com/sdk/gcloud/reference/ai/endpoints/create)\n",
        "\n",
        "Create an endpoint from which to serve the model."
      ],
      "metadata": {
        "id": "zwaYjMgYoHD6"
      }
    },
    {
      "cell_type": "code",
      "source": [
        "!gcloud ai endpoints create \\\n",
        "  --display-name={ENDPOINT_NAME} \\\n",
        "  --region={REGION} \\\n",
        "  --project={PROJECT}"
      ],
      "metadata": {
        "id": "7tJZt_XcWmr7"
      },
      "execution_count": null,
      "outputs": []
    },
    {
      "cell_type": "markdown",
      "source": [
        "### [Deploy the model to the endpoint](https://cloud.google.com/sdk/gcloud/reference/ai/endpoints/deploy-model)\n",
        "\n",
        "First, look up the endpoint ID, then deploy the model."
      ],
      "metadata": {
        "id": "QS_Rksv-wNQg"
      }
    },
    {
      "cell_type": "code",
      "source": [
        "ENDPOINT_ID = !gcloud ai endpoints list \\\n",
        "  --project={PROJECT} \\\n",
        "  --region={REGION} \\\n",
        "  --filter=displayName:{ENDPOINT_NAME} \\\n",
        "  --format=\"value(ENDPOINT_ID.scope())\"\n",
        "ENDPOINT_ID = ENDPOINT_ID[-1]"
      ],
      "metadata": {
        "id": "m3tgIGXld4xw"
      },
      "execution_count": null,
      "outputs": []
    },
    {
      "cell_type": "code",
      "source": [
        "print(ENDPOINT_ID)"
      ],
      "metadata": {
        "colab": {
          "base_uri": "https://localhost:8080/"
        },
        "id": "agYZ22DXTgHr",
        "outputId": "e23082b6-a1dd-476d-9a60-793b3dda5a82"
      },
      "execution_count": null,
      "outputs": [
        {
          "output_type": "stream",
          "name": "stdout",
          "text": [
            "Using endpoint [https://us-central1-aiplatform.googleapis.com/]\n"
          ]
        }
      ]
    },
    {
      "cell_type": "code",
      "source": [
        "!gcloud ai endpoints deploy-model {ENDPOINT_ID} \\\n",
        "  --project={PROJECT} \\\n",
        "  --region={REGION} \\\n",
        "  --model={MODEL_NAME} \\\n",
        "  --display-name={MODEL_NAME}"
      ],
      "metadata": {
        "id": "TIO93cnuwXhb"
      },
      "execution_count": null,
      "outputs": []
    },
    {
      "cell_type": "code",
      "source": [
        "print('Prediction link:')\n",
        "print(f'https://code.earthengine.google.com/dc4beb03cfd7fd91a6bc66220fc5ea0f#project={PROJECT};endpoint={ENDPOINT_ID}foo;')"
      ],
      "metadata": {
        "id": "MY-4QMWs-r1V"
      },
      "execution_count": null,
      "outputs": []
    }
  ]
}
