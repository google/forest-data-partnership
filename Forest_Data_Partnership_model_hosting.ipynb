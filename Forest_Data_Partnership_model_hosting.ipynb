{
  "nbformat": 4,
  "nbformat_minor": 0,
  "metadata": {
    "colab": {
      "provenance": []
    },
    "kernelspec": {
      "name": "python3",
      "display_name": "Python 3"
    },
    "language_info": {
      "name": "python"
    }
  },
  "cells": [
    {
      "cell_type": "markdown",
      "source": [
        "# Host a Forest Data Partnership trained model\n",
        "\n",
        "Use this notebook to host [Forest Data Partnership](https://www.forestdatapartnership.org/) models on Vertex AI for predictions in Earth Engine.  The models are stored in TensorFlow saved model format in the [Forest Data Partnership GitHub repository](https://github.com/googlestaging/forest-data-partnership/tree/main).\n",
        "\n",
        "**Note:** This guide uses paid components of Google Cloud Platform including Cloud Storage, Vertex AI and Earth Engine (commercial).  A Cloud project with billing enabled is needed for this workflow."
      ],
      "metadata": {
        "id": "CZLs9h845_j7"
      }
    },
    {
      "cell_type": "code",
      "execution_count": null,
      "metadata": {
        "id": "JtqbQ2K20UMu"
      },
      "outputs": [],
      "source": [
        "import google\n",
        "from google.colab import auth"
      ]
    },
    {
      "cell_type": "code",
      "source": [
        "PROJECT = 'your-project'\n",
        "BUCKET = 'your-writeable-bucket'\n",
        "\n",
        "REGION = 'us-central1'\n",
        "CONTAINER_IMAGE = 'us-docker.pkg.dev/vertex-ai/prediction/tf2-cpu.2-13:latest'\n",
        "MODEL_NAME = 'palm_model_20240312'\n",
        "ZIP_NAME = f'{MODEL_NAME}_hostable.zip'\n",
        "MODEL_PATH = f'{MODEL_NAME}_hostable'\n",
        "ARTIFACT_URI = f'gs://{BUCKET}/{MODEL_PATH}'\n",
        "GH_PATH = f'https://raw.githubusercontent.com/google/forest-data-partnership/main/models/{ZIP_NAME}'\n",
        "ENDPOINT_NAME = MODEL_NAME + '_endpoint'"
      ],
      "metadata": {
        "id": "9APuBDJXOK6a"
      },
      "execution_count": null,
      "outputs": []
    },
    {
      "cell_type": "code",
      "source": [
        "auth.authenticate_user()\n",
        "credentials, project = google.auth.default()"
      ],
      "metadata": {
        "id": "HXfFSx4P0rU9"
      },
      "execution_count": null,
      "outputs": []
    },
    {
      "cell_type": "markdown",
      "source": [
        "## Download a trained model from the GitHub repo"
      ],
      "metadata": {
        "id": "RgtyDrxp585b"
      }
    },
    {
      "cell_type": "code",
      "execution_count": null,
      "metadata": {
        "id": "iCmxoZDEMbtD"
      },
      "outputs": [],
      "source": [
        "!curl -o {ZIP_NAME} {GH_PATH}"
      ]
    },
    {
      "cell_type": "code",
      "source": [
        "!unzip {ZIP_NAME}"
      ],
      "metadata": {
        "id": "b6mvhzyF2cvk"
      },
      "execution_count": null,
      "outputs": []
    },
    {
      "cell_type": "code",
      "source": [
        "!gsutil cp -r {MODEL_PATH} gs://{BUCKET}"
      ],
      "metadata": {
        "id": "_IO47if04Zgp"
      },
      "execution_count": null,
      "outputs": []
    },
    {
      "cell_type": "markdown",
      "source": [
        "### [Upload the model](https://cloud.google.com/sdk/gcloud/reference/ai/models/upload)\n",
        "Add an entry to the model registry that points to the location of the saved model and a container image needed to run the model."
      ],
      "metadata": {
        "id": "SNlHMjrin51r"
      }
    },
    {
      "cell_type": "code",
      "metadata": {
        "id": "8RZRRzcfVu5T"
      },
      "source": [
        "!gcloud ai models upload \\\n",
        "  --project={PROJECT} \\\n",
        "  --region={REGION} \\\n",
        "  --artifact-uri={ARTIFACT_URI} \\\n",
        "  --container-image-uri={CONTAINER_IMAGE} \\\n",
        "  --description={MODEL_NAME} \\\n",
        "  --display-name={MODEL_NAME} \\\n",
        "  --model-id={MODEL_NAME}"
      ],
      "execution_count": null,
      "outputs": []
    },
    {
      "cell_type": "markdown",
      "source": [
        "### [Create an endpoint](https://cloud.google.com/sdk/gcloud/reference/ai/endpoints/create)\n",
        "\n",
        "Create an endpoint from which to serve the model."
      ],
      "metadata": {
        "id": "zwaYjMgYoHD6"
      }
    },
    {
      "cell_type": "code",
      "source": [
        "!gcloud ai endpoints create \\\n",
        "  --display-name={ENDPOINT_NAME} \\\n",
        "  --region={REGION} \\\n",
        "  --project={PROJECT}"
      ],
      "metadata": {
        "id": "7tJZt_XcWmr7"
      },
      "execution_count": null,
      "outputs": []
    },
    {
      "cell_type": "markdown",
      "source": [
        "### [Deploy the model to the endpoint](https://cloud.google.com/sdk/gcloud/reference/ai/endpoints/deploy-model)\n",
        "\n",
        "First, look up the endpoint ID, then deploy the model."
      ],
      "metadata": {
        "id": "QS_Rksv-wNQg"
      }
    },
    {
      "cell_type": "code",
      "source": [
        "ENDPOINT_ID = !gcloud ai endpoints list \\\n",
        "  --project={PROJECT} \\\n",
        "  --region={REGION} \\\n",
        "  --filter=displayName:{ENDPOINT_NAME} \\\n",
        "  --format=\"value(ENDPOINT_ID.scope())\"\n",
        "ENDPOINT_ID = ENDPOINT_ID[-1]"
      ],
      "metadata": {
        "id": "m3tgIGXld4xw"
      },
      "execution_count": null,
      "outputs": []
    },
    {
      "cell_type": "code",
      "source": [
        "print(ENDPOINT_ID)"
      ],
      "metadata": {
        "id": "agYZ22DXTgHr"
      },
      "execution_count": null,
      "outputs": []
    },
    {
      "cell_type": "code",
      "source": [
        "!gcloud ai endpoints deploy-model {ENDPOINT_ID} \\\n",
        "  --project={PROJECT} \\\n",
        "  --region={REGION} \\\n",
        "  --model={MODEL_NAME} \\\n",
        "  --display-name={MODEL_NAME}"
      ],
      "metadata": {
        "id": "TIO93cnuwXhb"
      },
      "execution_count": null,
      "outputs": []
    },
    {
      "cell_type": "code",
      "source": [
        "print('Prediction link:')\n",
        "print(f'https://code.earthengine.google.com/7ddb7bba1beecf0a9942fec36371b248#project={PROJECT};endpoint={ENDPOINT_ID}foo;')"
      ],
      "metadata": {
        "id": "MY-4QMWs-r1V"
      },
      "execution_count": null,
      "outputs": []
    }
  ]
}